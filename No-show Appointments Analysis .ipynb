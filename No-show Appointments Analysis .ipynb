{
 "cells": [
  {
   "cell_type": "markdown",
   "metadata": {},
   "source": [
    "# Project: No-show Appointments Analysis\n",
    "\n",
    "## Table of Contents\n",
    "<ul>\n",
    "<li><a href=\"#intro\">Introduction</a></li>\n",
    "<li><a href=\"#wrangling\">Data Wrangling</a></li>\n",
    "<li><a href=\"#eda\">Exploratory Data Analysis</a></li>\n",
    "<li><a href=\"#conclusions\">Conclusions</a></li>\n",
    "</ul>"
   ]
  },
  {
   "cell_type": "markdown",
   "metadata": {},
   "source": [
    "<a id='intro'></a>\n",
    "## Introduction\n",
    "\n",
    "> In this project, we will be analyzing data which factors could be used to predict if patients will show up for their scheduled appointment or not. We will compared patient characteristics such as gender, age, underlying diseases,etc. to see the difference between the patients who show up and did not show up for thier appointments."
   ]
  },
  {
   "cell_type": "markdown",
   "metadata": {},
   "source": [
    "<a id='intro'></a>\n",
    "## Questions\n",
    "\n",
    "1. Is gender affecting patients absences?\n",
    "2. How is age affecting patients absence? (Age group classification)\n",
    "3. Is scholarship affecting patients absence? \n",
    "4. Do SMS reminders reduces the number of patients absence?\n",
    "5. Are no-show appointments associated with a certain day of week? \n",
    "6. Is the waiting period between schedule day and appointment day affecting the number of absence?\n",
    "7. Are the underlying diseases (hypertension, diabetes,alcoholism,handicap) affecting the number of no-show appointments?\n"
   ]
  },
  {
   "cell_type": "markdown",
   "metadata": {},
   "source": [
    "<a id='wrangling'></a>\n",
    "## Data Wrangling\n",
    "\n",
    "\n",
    "\n",
    "### General Properties"
   ]
  },
  {
   "cell_type": "code",
   "execution_count": 1,
   "metadata": {},
   "outputs": [],
   "source": [
    "import numpy as np\n",
    "import pandas as pd\n",
    "import matplotlib.pyplot as plt\n",
    "import seaborn as sns\n",
    "%matplotlib inline\n",
    "sns.set_style('darkgrid')"
   ]
  },
  {
   "cell_type": "code",
   "execution_count": 2,
   "metadata": {},
   "outputs": [
    {
     "data": {
      "text/html": [
       "<div>\n",
       "<style scoped>\n",
       "    .dataframe tbody tr th:only-of-type {\n",
       "        vertical-align: middle;\n",
       "    }\n",
       "\n",
       "    .dataframe tbody tr th {\n",
       "        vertical-align: top;\n",
       "    }\n",
       "\n",
       "    .dataframe thead th {\n",
       "        text-align: right;\n",
       "    }\n",
       "</style>\n",
       "<table border=\"1\" class=\"dataframe\">\n",
       "  <thead>\n",
       "    <tr style=\"text-align: right;\">\n",
       "      <th></th>\n",
       "      <th>PatientId</th>\n",
       "      <th>AppointmentID</th>\n",
       "      <th>Gender</th>\n",
       "      <th>ScheduledDay</th>\n",
       "      <th>AppointmentDay</th>\n",
       "      <th>Age</th>\n",
       "      <th>Neighbourhood</th>\n",
       "      <th>Scholarship</th>\n",
       "      <th>Hipertension</th>\n",
       "      <th>Diabetes</th>\n",
       "      <th>Alcoholism</th>\n",
       "      <th>Handcap</th>\n",
       "      <th>SMS_received</th>\n",
       "      <th>No-show</th>\n",
       "    </tr>\n",
       "  </thead>\n",
       "  <tbody>\n",
       "    <tr>\n",
       "      <th>0</th>\n",
       "      <td>2.987250e+13</td>\n",
       "      <td>5642903</td>\n",
       "      <td>F</td>\n",
       "      <td>2016-04-29T18:38:08Z</td>\n",
       "      <td>2016-04-29T00:00:00Z</td>\n",
       "      <td>62</td>\n",
       "      <td>JARDIM DA PENHA</td>\n",
       "      <td>0</td>\n",
       "      <td>1</td>\n",
       "      <td>0</td>\n",
       "      <td>0</td>\n",
       "      <td>0</td>\n",
       "      <td>0</td>\n",
       "      <td>No</td>\n",
       "    </tr>\n",
       "    <tr>\n",
       "      <th>1</th>\n",
       "      <td>5.589978e+14</td>\n",
       "      <td>5642503</td>\n",
       "      <td>M</td>\n",
       "      <td>2016-04-29T16:08:27Z</td>\n",
       "      <td>2016-04-29T00:00:00Z</td>\n",
       "      <td>56</td>\n",
       "      <td>JARDIM DA PENHA</td>\n",
       "      <td>0</td>\n",
       "      <td>0</td>\n",
       "      <td>0</td>\n",
       "      <td>0</td>\n",
       "      <td>0</td>\n",
       "      <td>0</td>\n",
       "      <td>No</td>\n",
       "    </tr>\n",
       "    <tr>\n",
       "      <th>2</th>\n",
       "      <td>4.262962e+12</td>\n",
       "      <td>5642549</td>\n",
       "      <td>F</td>\n",
       "      <td>2016-04-29T16:19:04Z</td>\n",
       "      <td>2016-04-29T00:00:00Z</td>\n",
       "      <td>62</td>\n",
       "      <td>MATA DA PRAIA</td>\n",
       "      <td>0</td>\n",
       "      <td>0</td>\n",
       "      <td>0</td>\n",
       "      <td>0</td>\n",
       "      <td>0</td>\n",
       "      <td>0</td>\n",
       "      <td>No</td>\n",
       "    </tr>\n",
       "    <tr>\n",
       "      <th>3</th>\n",
       "      <td>8.679512e+11</td>\n",
       "      <td>5642828</td>\n",
       "      <td>F</td>\n",
       "      <td>2016-04-29T17:29:31Z</td>\n",
       "      <td>2016-04-29T00:00:00Z</td>\n",
       "      <td>8</td>\n",
       "      <td>PONTAL DE CAMBURI</td>\n",
       "      <td>0</td>\n",
       "      <td>0</td>\n",
       "      <td>0</td>\n",
       "      <td>0</td>\n",
       "      <td>0</td>\n",
       "      <td>0</td>\n",
       "      <td>No</td>\n",
       "    </tr>\n",
       "    <tr>\n",
       "      <th>4</th>\n",
       "      <td>8.841186e+12</td>\n",
       "      <td>5642494</td>\n",
       "      <td>F</td>\n",
       "      <td>2016-04-29T16:07:23Z</td>\n",
       "      <td>2016-04-29T00:00:00Z</td>\n",
       "      <td>56</td>\n",
       "      <td>JARDIM DA PENHA</td>\n",
       "      <td>0</td>\n",
       "      <td>1</td>\n",
       "      <td>1</td>\n",
       "      <td>0</td>\n",
       "      <td>0</td>\n",
       "      <td>0</td>\n",
       "      <td>No</td>\n",
       "    </tr>\n",
       "  </tbody>\n",
       "</table>\n",
       "</div>"
      ],
      "text/plain": [
       "      PatientId  AppointmentID Gender          ScheduledDay  \\\n",
       "0  2.987250e+13        5642903      F  2016-04-29T18:38:08Z   \n",
       "1  5.589978e+14        5642503      M  2016-04-29T16:08:27Z   \n",
       "2  4.262962e+12        5642549      F  2016-04-29T16:19:04Z   \n",
       "3  8.679512e+11        5642828      F  2016-04-29T17:29:31Z   \n",
       "4  8.841186e+12        5642494      F  2016-04-29T16:07:23Z   \n",
       "\n",
       "         AppointmentDay  Age      Neighbourhood  Scholarship  Hipertension  \\\n",
       "0  2016-04-29T00:00:00Z   62    JARDIM DA PENHA            0             1   \n",
       "1  2016-04-29T00:00:00Z   56    JARDIM DA PENHA            0             0   \n",
       "2  2016-04-29T00:00:00Z   62      MATA DA PRAIA            0             0   \n",
       "3  2016-04-29T00:00:00Z    8  PONTAL DE CAMBURI            0             0   \n",
       "4  2016-04-29T00:00:00Z   56    JARDIM DA PENHA            0             1   \n",
       "\n",
       "   Diabetes  Alcoholism  Handcap  SMS_received No-show  \n",
       "0         0           0        0             0      No  \n",
       "1         0           0        0             0      No  \n",
       "2         0           0        0             0      No  \n",
       "3         0           0        0             0      No  \n",
       "4         1           0        0             0      No  "
      ]
     },
     "execution_count": 2,
     "metadata": {},
     "output_type": "execute_result"
    }
   ],
   "source": [
    "df = pd.read_csv('noshowappointments-kagglev2-may-2016.csv')\n",
    "df.head(5)"
   ]
  },
  {
   "cell_type": "markdown",
   "metadata": {},
   "source": [
    ">I will check the shape, information, and duplication to get some idea from data. "
   ]
  },
  {
   "cell_type": "code",
   "execution_count": 3,
   "metadata": {},
   "outputs": [
    {
     "data": {
      "text/plain": [
       "(110527, 14)"
      ]
     },
     "execution_count": 3,
     "metadata": {},
     "output_type": "execute_result"
    }
   ],
   "source": [
    "df.shape"
   ]
  },
  {
   "cell_type": "code",
   "execution_count": 4,
   "metadata": {},
   "outputs": [
    {
     "name": "stdout",
     "output_type": "stream",
     "text": [
      "<class 'pandas.core.frame.DataFrame'>\n",
      "RangeIndex: 110527 entries, 0 to 110526\n",
      "Data columns (total 14 columns):\n",
      "PatientId         110527 non-null float64\n",
      "AppointmentID     110527 non-null int64\n",
      "Gender            110527 non-null object\n",
      "ScheduledDay      110527 non-null object\n",
      "AppointmentDay    110527 non-null object\n",
      "Age               110527 non-null int64\n",
      "Neighbourhood     110527 non-null object\n",
      "Scholarship       110527 non-null int64\n",
      "Hipertension      110527 non-null int64\n",
      "Diabetes          110527 non-null int64\n",
      "Alcoholism        110527 non-null int64\n",
      "Handcap           110527 non-null int64\n",
      "SMS_received      110527 non-null int64\n",
      "No-show           110527 non-null object\n",
      "dtypes: float64(1), int64(8), object(5)\n",
      "memory usage: 11.8+ MB\n"
     ]
    }
   ],
   "source": [
    "df.info()"
   ]
  },
  {
   "cell_type": "code",
   "execution_count": 5,
   "metadata": {},
   "outputs": [
    {
     "data": {
      "text/html": [
       "<div>\n",
       "<style scoped>\n",
       "    .dataframe tbody tr th:only-of-type {\n",
       "        vertical-align: middle;\n",
       "    }\n",
       "\n",
       "    .dataframe tbody tr th {\n",
       "        vertical-align: top;\n",
       "    }\n",
       "\n",
       "    .dataframe thead th {\n",
       "        text-align: right;\n",
       "    }\n",
       "</style>\n",
       "<table border=\"1\" class=\"dataframe\">\n",
       "  <thead>\n",
       "    <tr style=\"text-align: right;\">\n",
       "      <th></th>\n",
       "      <th>PatientId</th>\n",
       "      <th>AppointmentID</th>\n",
       "      <th>Age</th>\n",
       "      <th>Scholarship</th>\n",
       "      <th>Hipertension</th>\n",
       "      <th>Diabetes</th>\n",
       "      <th>Alcoholism</th>\n",
       "      <th>Handcap</th>\n",
       "      <th>SMS_received</th>\n",
       "    </tr>\n",
       "  </thead>\n",
       "  <tbody>\n",
       "    <tr>\n",
       "      <th>count</th>\n",
       "      <td>1.105270e+05</td>\n",
       "      <td>1.105270e+05</td>\n",
       "      <td>110527.000000</td>\n",
       "      <td>110527.000000</td>\n",
       "      <td>110527.000000</td>\n",
       "      <td>110527.000000</td>\n",
       "      <td>110527.000000</td>\n",
       "      <td>110527.000000</td>\n",
       "      <td>110527.000000</td>\n",
       "    </tr>\n",
       "    <tr>\n",
       "      <th>mean</th>\n",
       "      <td>1.474963e+14</td>\n",
       "      <td>5.675305e+06</td>\n",
       "      <td>37.088874</td>\n",
       "      <td>0.098266</td>\n",
       "      <td>0.197246</td>\n",
       "      <td>0.071865</td>\n",
       "      <td>0.030400</td>\n",
       "      <td>0.022248</td>\n",
       "      <td>0.321026</td>\n",
       "    </tr>\n",
       "    <tr>\n",
       "      <th>std</th>\n",
       "      <td>2.560949e+14</td>\n",
       "      <td>7.129575e+04</td>\n",
       "      <td>23.110205</td>\n",
       "      <td>0.297675</td>\n",
       "      <td>0.397921</td>\n",
       "      <td>0.258265</td>\n",
       "      <td>0.171686</td>\n",
       "      <td>0.161543</td>\n",
       "      <td>0.466873</td>\n",
       "    </tr>\n",
       "    <tr>\n",
       "      <th>min</th>\n",
       "      <td>3.921784e+04</td>\n",
       "      <td>5.030230e+06</td>\n",
       "      <td>-1.000000</td>\n",
       "      <td>0.000000</td>\n",
       "      <td>0.000000</td>\n",
       "      <td>0.000000</td>\n",
       "      <td>0.000000</td>\n",
       "      <td>0.000000</td>\n",
       "      <td>0.000000</td>\n",
       "    </tr>\n",
       "    <tr>\n",
       "      <th>25%</th>\n",
       "      <td>4.172614e+12</td>\n",
       "      <td>5.640286e+06</td>\n",
       "      <td>18.000000</td>\n",
       "      <td>0.000000</td>\n",
       "      <td>0.000000</td>\n",
       "      <td>0.000000</td>\n",
       "      <td>0.000000</td>\n",
       "      <td>0.000000</td>\n",
       "      <td>0.000000</td>\n",
       "    </tr>\n",
       "    <tr>\n",
       "      <th>50%</th>\n",
       "      <td>3.173184e+13</td>\n",
       "      <td>5.680573e+06</td>\n",
       "      <td>37.000000</td>\n",
       "      <td>0.000000</td>\n",
       "      <td>0.000000</td>\n",
       "      <td>0.000000</td>\n",
       "      <td>0.000000</td>\n",
       "      <td>0.000000</td>\n",
       "      <td>0.000000</td>\n",
       "    </tr>\n",
       "    <tr>\n",
       "      <th>75%</th>\n",
       "      <td>9.439172e+13</td>\n",
       "      <td>5.725524e+06</td>\n",
       "      <td>55.000000</td>\n",
       "      <td>0.000000</td>\n",
       "      <td>0.000000</td>\n",
       "      <td>0.000000</td>\n",
       "      <td>0.000000</td>\n",
       "      <td>0.000000</td>\n",
       "      <td>1.000000</td>\n",
       "    </tr>\n",
       "    <tr>\n",
       "      <th>max</th>\n",
       "      <td>9.999816e+14</td>\n",
       "      <td>5.790484e+06</td>\n",
       "      <td>115.000000</td>\n",
       "      <td>1.000000</td>\n",
       "      <td>1.000000</td>\n",
       "      <td>1.000000</td>\n",
       "      <td>1.000000</td>\n",
       "      <td>4.000000</td>\n",
       "      <td>1.000000</td>\n",
       "    </tr>\n",
       "  </tbody>\n",
       "</table>\n",
       "</div>"
      ],
      "text/plain": [
       "          PatientId  AppointmentID            Age    Scholarship  \\\n",
       "count  1.105270e+05   1.105270e+05  110527.000000  110527.000000   \n",
       "mean   1.474963e+14   5.675305e+06      37.088874       0.098266   \n",
       "std    2.560949e+14   7.129575e+04      23.110205       0.297675   \n",
       "min    3.921784e+04   5.030230e+06      -1.000000       0.000000   \n",
       "25%    4.172614e+12   5.640286e+06      18.000000       0.000000   \n",
       "50%    3.173184e+13   5.680573e+06      37.000000       0.000000   \n",
       "75%    9.439172e+13   5.725524e+06      55.000000       0.000000   \n",
       "max    9.999816e+14   5.790484e+06     115.000000       1.000000   \n",
       "\n",
       "        Hipertension       Diabetes     Alcoholism        Handcap  \\\n",
       "count  110527.000000  110527.000000  110527.000000  110527.000000   \n",
       "mean        0.197246       0.071865       0.030400       0.022248   \n",
       "std         0.397921       0.258265       0.171686       0.161543   \n",
       "min         0.000000       0.000000       0.000000       0.000000   \n",
       "25%         0.000000       0.000000       0.000000       0.000000   \n",
       "50%         0.000000       0.000000       0.000000       0.000000   \n",
       "75%         0.000000       0.000000       0.000000       0.000000   \n",
       "max         1.000000       1.000000       1.000000       4.000000   \n",
       "\n",
       "        SMS_received  \n",
       "count  110527.000000  \n",
       "mean        0.321026  \n",
       "std         0.466873  \n",
       "min         0.000000  \n",
       "25%         0.000000  \n",
       "50%         0.000000  \n",
       "75%         1.000000  \n",
       "max         1.000000  "
      ]
     },
     "execution_count": 5,
     "metadata": {},
     "output_type": "execute_result"
    }
   ],
   "source": [
    "df.describe()"
   ]
  },
  {
   "cell_type": "code",
   "execution_count": 6,
   "metadata": {},
   "outputs": [
    {
     "data": {
      "text/plain": [
       "0"
      ]
     },
     "execution_count": 6,
     "metadata": {},
     "output_type": "execute_result"
    }
   ],
   "source": [
    "sum(df.duplicated())"
   ]
  },
  {
   "cell_type": "code",
   "execution_count": 64,
   "metadata": {},
   "outputs": [
    {
     "data": {
      "text/plain": [
       "False"
      ]
     },
     "execution_count": 64,
     "metadata": {},
     "output_type": "execute_result"
    }
   ],
   "source": [
    "df.isnull().values.any()"
   ]
  },
  {
   "cell_type": "markdown",
   "metadata": {},
   "source": [
    "> It could be seen that there are 110527 rows without missing value. In addtion, there are no duplicated file in this data. However, it seems to have an abnormal value such as min(age) = -1.  The column names are also misspelling. "
   ]
  },
  {
   "cell_type": "markdown",
   "metadata": {},
   "source": [
    "### Data Cleaning "
   ]
  },
  {
   "cell_type": "markdown",
   "metadata": {},
   "source": [
    ">According to the table, the column name will be rename into lower capital and replace \"-\" due to easier for coding. There are also some misspelling which will be corrected. "
   ]
  },
  {
   "cell_type": "code",
   "execution_count": 7,
   "metadata": {},
   "outputs": [],
   "source": [
    "df.rename(columns=lambda x: x.strip().lower().replace(\"-\", \"_\"), inplace=True)"
   ]
  },
  {
   "cell_type": "code",
   "execution_count": 8,
   "metadata": {},
   "outputs": [],
   "source": [
    "df.rename(index=str, columns={\"hipertension\": \"hypertension\", \"handcap\": \"handicap\"}, inplace = True)"
   ]
  },
  {
   "cell_type": "markdown",
   "metadata": {},
   "source": [
    ">There are 7 factors that will be analyzed to find trends of patients who missed the appointment:\n",
    "\n",
    ">>1. Gender\n",
    "2. Age\n",
    "3. The day of week\n",
    "4. Waiting time (Different between scheduled day and appointment day)\n",
    "5. Scholarship\n",
    "6. Sms received\n",
    "7. Underlying diseases\n",
    "\n",
    ">However, I decide to categorised the following factors : age,the day of week, waiting time, and underlying diseases. Before droping unnesessary columns, I will analyzed those data and create the new important factors."
   ]
  },
  {
   "cell_type": "markdown",
   "metadata": {},
   "source": [
    "#### Grouping Age"
   ]
  },
  {
   "cell_type": "code",
   "execution_count": 9,
   "metadata": {},
   "outputs": [
    {
     "data": {
      "text/plain": [
       "array([ -1,   0,   1,   2,   3,   4,   5,   6,   7,   8,   9,  10,  11,\n",
       "        12,  13,  14,  15,  16,  17,  18,  19,  20,  21,  22,  23,  24,\n",
       "        25,  26,  27,  28,  29,  30,  31,  32,  33,  34,  35,  36,  37,\n",
       "        38,  39,  40,  41,  42,  43,  44,  45,  46,  47,  48,  49,  50,\n",
       "        51,  52,  53,  54,  55,  56,  57,  58,  59,  60,  61,  62,  63,\n",
       "        64,  65,  66,  67,  68,  69,  70,  71,  72,  73,  74,  75,  76,\n",
       "        77,  78,  79,  80,  81,  82,  83,  84,  85,  86,  87,  88,  89,\n",
       "        90,  91,  92,  93,  94,  95,  96,  97,  98,  99, 100, 102, 115],\n",
       "      dtype=int64)"
      ]
     },
     "execution_count": 9,
     "metadata": {},
     "output_type": "execute_result"
    }
   ],
   "source": [
    "# Let's see the unique value of age.\n",
    "np.sort(df.age.unique())"
   ]
  },
  {
   "cell_type": "code",
   "execution_count": 10,
   "metadata": {},
   "outputs": [],
   "source": [
    "# Choosing only a normal data: age >=0\n",
    "df = df[df.age >=0]"
   ]
  },
  {
   "cell_type": "code",
   "execution_count": 11,
   "metadata": {},
   "outputs": [],
   "source": [
    "## due to hugh age gap, I will group patient age into age category.\n",
    "def age_groups(age):\n",
    "    if age >= 76:\n",
    "        return 'above 75'\n",
    "    elif age >= 61:\n",
    "        return 'age 61-75'\n",
    "    elif age >= 46:\n",
    "        return 'age 46-60'\n",
    "    elif age >= 31:\n",
    "        return 'age 31-45'\n",
    "    elif age >= 16:\n",
    "        return 'age 16-30'\n",
    "    else:\n",
    "        return 'under 15'"
   ]
  },
  {
   "cell_type": "code",
   "execution_count": 12,
   "metadata": {},
   "outputs": [],
   "source": [
    "## Create a new column 'age_group'\n",
    "df.loc[:, 'age_group']= df['age'].aggregate(age_groups)"
   ]
  },
  {
   "cell_type": "markdown",
   "metadata": {},
   "source": [
    "#### The day of week\n",
    ">I need to change data type of appointmentday into datetime so I can used the method dt.day_name to identify the day of week. Then, create the new column 'day_of_week'"
   ]
  },
  {
   "cell_type": "code",
   "execution_count": 13,
   "metadata": {},
   "outputs": [],
   "source": [
    "df['appointmentday'] = pd.to_datetime(df['appointmentday'])\n",
    "df['day_of_week'] = df['appointmentday'].dt.day_name()"
   ]
  },
  {
   "cell_type": "markdown",
   "metadata": {},
   "source": [
    "#### Waiting time\n",
    ">How long patients need to wait for thier appointments may also affect No-shows in appointment scheduling. I will calculate the differences and group them into waiting periods for an appointment."
   ]
  },
  {
   "cell_type": "code",
   "execution_count": 14,
   "metadata": {},
   "outputs": [],
   "source": [
    "# Set scheduled day and appointment day into the same data type\n",
    "df.scheduledday = df.scheduledday.astype(np.datetime64)\n",
    "df.scheduledday = df.scheduledday.dt.date\n",
    "df.appointmentday = df.appointmentday.astype(np.datetime64)\n",
    "df.appointmentday = df.appointmentday.dt.date"
   ]
  },
  {
   "cell_type": "code",
   "execution_count": 15,
   "metadata": {},
   "outputs": [],
   "source": [
    "# Create the new column 'waiting_time'\n",
    "df['waiting_time']= df.appointmentday - df.scheduledday"
   ]
  },
  {
   "cell_type": "code",
   "execution_count": 16,
   "metadata": {},
   "outputs": [
    {
     "data": {
      "text/plain": [
       "count                     110526\n",
       "mean     10 days 04:24:39.789370\n",
       "std      15 days 06:07:14.979140\n",
       "min            -6 days +00:00:00\n",
       "25%              0 days 00:00:00\n",
       "50%              4 days 00:00:00\n",
       "75%             15 days 00:00:00\n",
       "max            179 days 00:00:00\n",
       "Name: waiting_time, dtype: object"
      ]
     },
     "execution_count": 16,
     "metadata": {},
     "output_type": "execute_result"
    }
   ],
   "source": [
    "#Check abnormal value\n",
    "df.waiting_time.describe()"
   ]
  },
  {
   "cell_type": "markdown",
   "metadata": {},
   "source": [
    "> The minimum is -6 which is an abnormal value."
   ]
  },
  {
   "cell_type": "code",
   "execution_count": 17,
   "metadata": {},
   "outputs": [],
   "source": [
    "#  It is impossible that result is minus so I will choose only waiting time >= 0 \n",
    "df = df[df.waiting_time >= np.timedelta64(0, 'D')]"
   ]
  },
  {
   "cell_type": "code",
   "execution_count": 18,
   "metadata": {},
   "outputs": [],
   "source": [
    "#Due to long range time of waiting, data will be group into month.\n",
    "def waitingtime_groups(wait):\n",
    "    if wait >= np.timedelta64(151, 'D'):\n",
    "        return 'more than 5 months'\n",
    "    elif wait >= np.timedelta64(121, 'D'):\n",
    "        return '5 months'\n",
    "    elif wait >= np.timedelta64(91, 'D'):\n",
    "        return '4 months'\n",
    "    elif wait >= np.timedelta64(61, 'D'):\n",
    "        return '3 months'\n",
    "    elif wait >= np.timedelta64(31, 'D'):\n",
    "        return '2 months'\n",
    "    else:\n",
    "        return '1 month'"
   ]
  },
  {
   "cell_type": "code",
   "execution_count": 19,
   "metadata": {},
   "outputs": [],
   "source": [
    "df.loc[:, 'waiting_period'] = df['waiting_time'].aggregate(waitingtime_groups)"
   ]
  },
  {
   "cell_type": "markdown",
   "metadata": {},
   "source": [
    "#### Underlying diseases\n",
    ">I want to know between the patients who have underlying diseases and who are healthy, which group tend to no show on an appointment.\n",
    ">I assume handicap it is also a underlying disease."
   ]
  },
  {
   "cell_type": "code",
   "execution_count": 20,
   "metadata": {},
   "outputs": [],
   "source": [
    "# I want to know between the patients who have underlying diseases and who are healthy, which group tend to no show on an appointment.\n",
    "# I assume handicap it is also a underlying disease.\n",
    "def sum_dz(df):\n",
    "    sum_column = df.loc[: , ['hypertension', 'diabetes', 'alcoholism', 'handicap']].sum(1)\n",
    "    return df.assign(sum_dz = sum_column)"
   ]
  },
  {
   "cell_type": "code",
   "execution_count": 21,
   "metadata": {},
   "outputs": [],
   "source": [
    "# Then, I'll be grouping into 2 groups: Yes refers to a patient who has any underlying diseases, No refers to a patients who has no underlying diseases\n",
    "def underlying_group(sum_dz):\n",
    "    if sum_dz == 0:\n",
    "        return 'No'\n",
    "    else:\n",
    "        return 'Yes'\n",
    "df = sum_dz(df)"
   ]
  },
  {
   "cell_type": "code",
   "execution_count": 22,
   "metadata": {},
   "outputs": [],
   "source": [
    "df.loc[:, 'underlying_dz'] = df['sum_dz'].aggregate(underlying_group)"
   ]
  },
  {
   "cell_type": "markdown",
   "metadata": {},
   "source": [
    "> Let's check the new columns"
   ]
  },
  {
   "cell_type": "code",
   "execution_count": 23,
   "metadata": {},
   "outputs": [
    {
     "data": {
      "text/html": [
       "<div>\n",
       "<style scoped>\n",
       "    .dataframe tbody tr th:only-of-type {\n",
       "        vertical-align: middle;\n",
       "    }\n",
       "\n",
       "    .dataframe tbody tr th {\n",
       "        vertical-align: top;\n",
       "    }\n",
       "\n",
       "    .dataframe thead th {\n",
       "        text-align: right;\n",
       "    }\n",
       "</style>\n",
       "<table border=\"1\" class=\"dataframe\">\n",
       "  <thead>\n",
       "    <tr style=\"text-align: right;\">\n",
       "      <th></th>\n",
       "      <th>patientid</th>\n",
       "      <th>appointmentid</th>\n",
       "      <th>gender</th>\n",
       "      <th>scheduledday</th>\n",
       "      <th>appointmentday</th>\n",
       "      <th>age</th>\n",
       "      <th>neighbourhood</th>\n",
       "      <th>scholarship</th>\n",
       "      <th>hypertension</th>\n",
       "      <th>diabetes</th>\n",
       "      <th>alcoholism</th>\n",
       "      <th>handicap</th>\n",
       "      <th>sms_received</th>\n",
       "      <th>no_show</th>\n",
       "      <th>age_group</th>\n",
       "      <th>day_of_week</th>\n",
       "      <th>waiting_time</th>\n",
       "      <th>waiting_period</th>\n",
       "      <th>sum_dz</th>\n",
       "      <th>underlying_dz</th>\n",
       "    </tr>\n",
       "  </thead>\n",
       "  <tbody>\n",
       "    <tr>\n",
       "      <th>0</th>\n",
       "      <td>2.987250e+13</td>\n",
       "      <td>5642903</td>\n",
       "      <td>F</td>\n",
       "      <td>2016-04-29</td>\n",
       "      <td>2016-04-29</td>\n",
       "      <td>62</td>\n",
       "      <td>JARDIM DA PENHA</td>\n",
       "      <td>0</td>\n",
       "      <td>1</td>\n",
       "      <td>0</td>\n",
       "      <td>0</td>\n",
       "      <td>0</td>\n",
       "      <td>0</td>\n",
       "      <td>No</td>\n",
       "      <td>age 61-75</td>\n",
       "      <td>Friday</td>\n",
       "      <td>0 days</td>\n",
       "      <td>1 month</td>\n",
       "      <td>1</td>\n",
       "      <td>Yes</td>\n",
       "    </tr>\n",
       "    <tr>\n",
       "      <th>1</th>\n",
       "      <td>5.589978e+14</td>\n",
       "      <td>5642503</td>\n",
       "      <td>M</td>\n",
       "      <td>2016-04-29</td>\n",
       "      <td>2016-04-29</td>\n",
       "      <td>56</td>\n",
       "      <td>JARDIM DA PENHA</td>\n",
       "      <td>0</td>\n",
       "      <td>0</td>\n",
       "      <td>0</td>\n",
       "      <td>0</td>\n",
       "      <td>0</td>\n",
       "      <td>0</td>\n",
       "      <td>No</td>\n",
       "      <td>age 46-60</td>\n",
       "      <td>Friday</td>\n",
       "      <td>0 days</td>\n",
       "      <td>1 month</td>\n",
       "      <td>0</td>\n",
       "      <td>No</td>\n",
       "    </tr>\n",
       "    <tr>\n",
       "      <th>2</th>\n",
       "      <td>4.262962e+12</td>\n",
       "      <td>5642549</td>\n",
       "      <td>F</td>\n",
       "      <td>2016-04-29</td>\n",
       "      <td>2016-04-29</td>\n",
       "      <td>62</td>\n",
       "      <td>MATA DA PRAIA</td>\n",
       "      <td>0</td>\n",
       "      <td>0</td>\n",
       "      <td>0</td>\n",
       "      <td>0</td>\n",
       "      <td>0</td>\n",
       "      <td>0</td>\n",
       "      <td>No</td>\n",
       "      <td>age 61-75</td>\n",
       "      <td>Friday</td>\n",
       "      <td>0 days</td>\n",
       "      <td>1 month</td>\n",
       "      <td>0</td>\n",
       "      <td>No</td>\n",
       "    </tr>\n",
       "    <tr>\n",
       "      <th>3</th>\n",
       "      <td>8.679512e+11</td>\n",
       "      <td>5642828</td>\n",
       "      <td>F</td>\n",
       "      <td>2016-04-29</td>\n",
       "      <td>2016-04-29</td>\n",
       "      <td>8</td>\n",
       "      <td>PONTAL DE CAMBURI</td>\n",
       "      <td>0</td>\n",
       "      <td>0</td>\n",
       "      <td>0</td>\n",
       "      <td>0</td>\n",
       "      <td>0</td>\n",
       "      <td>0</td>\n",
       "      <td>No</td>\n",
       "      <td>under 15</td>\n",
       "      <td>Friday</td>\n",
       "      <td>0 days</td>\n",
       "      <td>1 month</td>\n",
       "      <td>0</td>\n",
       "      <td>No</td>\n",
       "    </tr>\n",
       "    <tr>\n",
       "      <th>4</th>\n",
       "      <td>8.841186e+12</td>\n",
       "      <td>5642494</td>\n",
       "      <td>F</td>\n",
       "      <td>2016-04-29</td>\n",
       "      <td>2016-04-29</td>\n",
       "      <td>56</td>\n",
       "      <td>JARDIM DA PENHA</td>\n",
       "      <td>0</td>\n",
       "      <td>1</td>\n",
       "      <td>1</td>\n",
       "      <td>0</td>\n",
       "      <td>0</td>\n",
       "      <td>0</td>\n",
       "      <td>No</td>\n",
       "      <td>age 46-60</td>\n",
       "      <td>Friday</td>\n",
       "      <td>0 days</td>\n",
       "      <td>1 month</td>\n",
       "      <td>2</td>\n",
       "      <td>Yes</td>\n",
       "    </tr>\n",
       "  </tbody>\n",
       "</table>\n",
       "</div>"
      ],
      "text/plain": [
       "      patientid  appointmentid gender scheduledday appointmentday  age  \\\n",
       "0  2.987250e+13        5642903      F   2016-04-29     2016-04-29   62   \n",
       "1  5.589978e+14        5642503      M   2016-04-29     2016-04-29   56   \n",
       "2  4.262962e+12        5642549      F   2016-04-29     2016-04-29   62   \n",
       "3  8.679512e+11        5642828      F   2016-04-29     2016-04-29    8   \n",
       "4  8.841186e+12        5642494      F   2016-04-29     2016-04-29   56   \n",
       "\n",
       "       neighbourhood  scholarship  hypertension  diabetes  alcoholism  \\\n",
       "0    JARDIM DA PENHA            0             1         0           0   \n",
       "1    JARDIM DA PENHA            0             0         0           0   \n",
       "2      MATA DA PRAIA            0             0         0           0   \n",
       "3  PONTAL DE CAMBURI            0             0         0           0   \n",
       "4    JARDIM DA PENHA            0             1         1           0   \n",
       "\n",
       "   handicap  sms_received no_show  age_group day_of_week waiting_time  \\\n",
       "0         0             0      No  age 61-75      Friday       0 days   \n",
       "1         0             0      No  age 46-60      Friday       0 days   \n",
       "2         0             0      No  age 61-75      Friday       0 days   \n",
       "3         0             0      No   under 15      Friday       0 days   \n",
       "4         0             0      No  age 46-60      Friday       0 days   \n",
       "\n",
       "  waiting_period  sum_dz underlying_dz  \n",
       "0        1 month       1           Yes  \n",
       "1        1 month       0            No  \n",
       "2        1 month       0            No  \n",
       "3        1 month       0            No  \n",
       "4        1 month       2           Yes  "
      ]
     },
     "execution_count": 23,
     "metadata": {},
     "output_type": "execute_result"
    }
   ],
   "source": [
    "df.head(5)"
   ]
  },
  {
   "cell_type": "markdown",
   "metadata": {},
   "source": [
    "> Drop columns that will not be used in analyzing"
   ]
  },
  {
   "cell_type": "code",
   "execution_count": 24,
   "metadata": {},
   "outputs": [],
   "source": [
    "df.drop(['patientid', 'appointmentid', 'scheduledday', 'appointmentday', 'neighbourhood', 'age', 'sum_dz', 'waiting_time', 'hypertension', 'diabetes', 'alcoholism', 'handicap'], axis = 1, inplace = True)"
   ]
  },
  {
   "cell_type": "code",
   "execution_count": 25,
   "metadata": {},
   "outputs": [
    {
     "data": {
      "text/html": [
       "<div>\n",
       "<style scoped>\n",
       "    .dataframe tbody tr th:only-of-type {\n",
       "        vertical-align: middle;\n",
       "    }\n",
       "\n",
       "    .dataframe tbody tr th {\n",
       "        vertical-align: top;\n",
       "    }\n",
       "\n",
       "    .dataframe thead th {\n",
       "        text-align: right;\n",
       "    }\n",
       "</style>\n",
       "<table border=\"1\" class=\"dataframe\">\n",
       "  <thead>\n",
       "    <tr style=\"text-align: right;\">\n",
       "      <th></th>\n",
       "      <th>gender</th>\n",
       "      <th>scholarship</th>\n",
       "      <th>sms_received</th>\n",
       "      <th>no_show</th>\n",
       "      <th>age_group</th>\n",
       "      <th>day_of_week</th>\n",
       "      <th>waiting_period</th>\n",
       "      <th>underlying_dz</th>\n",
       "    </tr>\n",
       "  </thead>\n",
       "  <tbody>\n",
       "    <tr>\n",
       "      <th>0</th>\n",
       "      <td>F</td>\n",
       "      <td>0</td>\n",
       "      <td>0</td>\n",
       "      <td>No</td>\n",
       "      <td>age 61-75</td>\n",
       "      <td>Friday</td>\n",
       "      <td>1 month</td>\n",
       "      <td>Yes</td>\n",
       "    </tr>\n",
       "    <tr>\n",
       "      <th>1</th>\n",
       "      <td>M</td>\n",
       "      <td>0</td>\n",
       "      <td>0</td>\n",
       "      <td>No</td>\n",
       "      <td>age 46-60</td>\n",
       "      <td>Friday</td>\n",
       "      <td>1 month</td>\n",
       "      <td>No</td>\n",
       "    </tr>\n",
       "    <tr>\n",
       "      <th>2</th>\n",
       "      <td>F</td>\n",
       "      <td>0</td>\n",
       "      <td>0</td>\n",
       "      <td>No</td>\n",
       "      <td>age 61-75</td>\n",
       "      <td>Friday</td>\n",
       "      <td>1 month</td>\n",
       "      <td>No</td>\n",
       "    </tr>\n",
       "    <tr>\n",
       "      <th>3</th>\n",
       "      <td>F</td>\n",
       "      <td>0</td>\n",
       "      <td>0</td>\n",
       "      <td>No</td>\n",
       "      <td>under 15</td>\n",
       "      <td>Friday</td>\n",
       "      <td>1 month</td>\n",
       "      <td>No</td>\n",
       "    </tr>\n",
       "    <tr>\n",
       "      <th>4</th>\n",
       "      <td>F</td>\n",
       "      <td>0</td>\n",
       "      <td>0</td>\n",
       "      <td>No</td>\n",
       "      <td>age 46-60</td>\n",
       "      <td>Friday</td>\n",
       "      <td>1 month</td>\n",
       "      <td>Yes</td>\n",
       "    </tr>\n",
       "  </tbody>\n",
       "</table>\n",
       "</div>"
      ],
      "text/plain": [
       "  gender  scholarship  sms_received no_show  age_group day_of_week  \\\n",
       "0      F            0             0      No  age 61-75      Friday   \n",
       "1      M            0             0      No  age 46-60      Friday   \n",
       "2      F            0             0      No  age 61-75      Friday   \n",
       "3      F            0             0      No   under 15      Friday   \n",
       "4      F            0             0      No  age 46-60      Friday   \n",
       "\n",
       "  waiting_period underlying_dz  \n",
       "0        1 month           Yes  \n",
       "1        1 month            No  \n",
       "2        1 month            No  \n",
       "3        1 month            No  \n",
       "4        1 month           Yes  "
      ]
     },
     "execution_count": 25,
     "metadata": {},
     "output_type": "execute_result"
    }
   ],
   "source": [
    "# The new table\n",
    "df.head(5)"
   ]
  },
  {
   "cell_type": "markdown",
   "metadata": {},
   "source": [
    "<a id='eda'></a>\n",
    "## Exploratory Data Analysis\n"
   ]
  },
  {
   "cell_type": "code",
   "execution_count": 26,
   "metadata": {},
   "outputs": [],
   "source": [
    "# Set show and no show variables\n",
    "show = df.no_show == \"No\" \n",
    "noshow =  df.no_show == \"Yes\""
   ]
  },
  {
   "cell_type": "code",
   "execution_count": 27,
   "metadata": {},
   "outputs": [
    {
     "data": {
      "image/png": "[encoded data removed]",
      "text/plain": [
       "<Figure size 432x288 with 1 Axes>"
      ]
     },
     "metadata": {},
     "output_type": "display_data"
    }
   ],
   "source": [
    "# Before running the graph, let's check the number of gender variables:\n",
    "count_gender = df.gender.value_counts()\n",
    "count_gender.plot(kind=\"pie\", autopct='%1.2f%%', radius = 1.5)\n",
    "plt.title(\"Gender\", pad=40)\n",
    "plt.ylabel(\"\");"
   ]
  },
  {
   "cell_type": "markdown",
   "metadata": {},
   "source": [
    "> This big difference can affects the outcomes if we compare them by count. Thus, I will compare each factor in proportion because the number of  data in each groups (i.e numbers of female and male patients) are not equal."
   ]
  },
  {
   "cell_type": "markdown",
   "metadata": {},
   "source": [
    "### 1. Relationship on Gender with No-show"
   ]
  },
  {
   "cell_type": "code",
   "execution_count": 51,
   "metadata": {},
   "outputs": [
    {
     "name": "stdout",
     "output_type": "stream",
     "text": [
      "percent_gender_noshow: \n",
      "F    20.311543\n",
      "M    19.963810\n",
      "Name: gender, dtype: float64\n",
      "\n",
      "percent_gender_show: \n",
      "F    79.688457\n",
      "M    80.036190\n",
      "Name: gender, dtype: float64\n"
     ]
    }
   ],
   "source": [
    "percent_gender_noshow = df.gender[noshow].value_counts() / df.gender.value_counts() *100\n",
    "percent_gender_show = df.gender[show].value_counts() / df.gender.value_counts() *100\n",
    "print('percent_gender_noshow: \\n{}\\n'.format(percent_gender_noshow))\n",
    "print('percent_gender_show: \\n{}'.format(percent_gender_show))"
   ]
  },
  {
   "cell_type": "code",
   "execution_count": 29,
   "metadata": {},
   "outputs": [
    {
     "data": {
      "image/png": "[encoded data removed]",
      "text/plain": [
       "<Figure size 432x288 with 1 Axes>"
      ]
     },
     "metadata": {
      "needs_background": "light"
     },
     "output_type": "display_data"
    }
   ],
   "source": [
    "percent_gender_show.plot(kind = 'bar', alpha = 0.5, color = 'red', label = 'show')\n",
    "percent_gender_noshow.plot(kind = 'bar', alpha = 0.9, color = 'lightblue', label = 'no show')\n",
    "plt.title('Gender distribution')\n",
    "plt.xlabel('Gender')\n",
    "plt.ylabel('Percentages')\n",
    "plt.legend();"
   ]
  },
  {
   "cell_type": "markdown",
   "metadata": {},
   "source": [
    "> The proportion of no-show group between Female and Male is almost equal. Thus, the gender factor is not significant enough to be considered as a important variable."
   ]
  },
  {
   "cell_type": "markdown",
   "metadata": {},
   "source": [
    "### 2. Relationship on Age Group with No-show"
   ]
  },
  {
   "cell_type": "code",
   "execution_count": 52,
   "metadata": {},
   "outputs": [
    {
     "name": "stdout",
     "output_type": "stream",
     "text": [
      "percent_age_noshow: \n",
      "above 75     16.119458\n",
      "age 16-30    24.762535\n",
      "age 31-45    21.368378\n",
      "age 46-60    17.822167\n",
      "age 61-75    14.864301\n",
      "under 15     21.445212\n",
      "Name: age_group, dtype: float64\n",
      "\n",
      "percent_age_show: \n",
      "under 15     78.554788\n",
      "age 46-60    82.177833\n",
      "age 31-45    78.631622\n",
      "age 16-30    75.237465\n",
      "age 61-75    85.135699\n",
      "above 75     83.880542\n",
      "Name: age_group, dtype: float64\n"
     ]
    }
   ],
   "source": [
    "percent_age_noshow = df.age_group[noshow].value_counts() / df.age_group.value_counts() *100\n",
    "percent_age_show = df.age_group[show].value_counts() / df.age_group.value_counts() *100\n",
    "print('percent_age_noshow: \\n{}\\n'.format(percent_age_noshow))\n",
    "print('percent_age_show: \\n{}'.format(percent_age_show))"
   ]
  },
  {
   "cell_type": "code",
   "execution_count": 31,
   "metadata": {},
   "outputs": [],
   "source": [
    "# Ordered the age group\n",
    "percent_age_noshow = percent_age_noshow[['under 15', 'age 16-30', 'age 31-45', 'age 46-60', 'age 61-75', 'above 75']]\n",
    "percent_age_show = percent_age_show[['under 15', 'age 16-30', 'age 31-45', 'age 46-60', 'age 61-75', 'above 75']]"
   ]
  },
  {
   "cell_type": "code",
   "execution_count": 54,
   "metadata": {},
   "outputs": [
    {
     "data": {
      "image/png": "[encoded data removed]",
      "text/plain": [
       "<Figure size 432x288 with 1 Axes>"
      ]
     },
     "metadata": {
      "needs_background": "light"
     },
     "output_type": "display_data"
    }
   ],
   "source": [
    "percent_age_noshow.plot(kind = 'barh', alpha = 1, color = 'lightblue')\n",
    "plt.title('Age distribution of no show')\n",
    "plt.xlabel('Percentages')\n",
    "plt.ylabel('Age group');"
   ]
  },
  {
   "cell_type": "markdown",
   "metadata": {},
   "source": [
    "> From the graph above, it could be seen that age 16-30 has the highest percentages of no-show for an appointment. The second and the third highest percentages are under 15, and 31-45 respectively. "
   ]
  },
  {
   "cell_type": "markdown",
   "metadata": {},
   "source": [
    "### 3. Relationship on Scholarship with No-show"
   ]
  },
  {
   "cell_type": "code",
   "execution_count": 55,
   "metadata": {},
   "outputs": [
    {
     "name": "stdout",
     "output_type": "stream",
     "text": [
      "percent_scholarship_noshow: \n",
      "0    19.803331\n",
      "1    23.736304\n",
      "Name: scholarship, dtype: float64\n",
      "\n",
      "percent_scholarship_show: \n",
      "0    80.196669\n",
      "1    76.263696\n",
      "Name: scholarship, dtype: float64\n"
     ]
    }
   ],
   "source": [
    "percent_scholarship_noshow = df.scholarship[noshow].value_counts() / df.scholarship.value_counts() *100\n",
    "percent_scholarship_show = df.scholarship[show].value_counts() / df.scholarship.value_counts() *100\n",
    "print('percent_scholarship_noshow: \\n{}\\n'.format(percent_scholarship_noshow))\n",
    "print('percent_scholarship_show: \\n{}'.format(percent_scholarship_show))"
   ]
  },
  {
   "cell_type": "code",
   "execution_count": 34,
   "metadata": {},
   "outputs": [
    {
     "data": {
      "image/png": "[encoded data removed]",
      "text/plain": [
       "<Figure size 432x288 with 1 Axes>"
      ]
     },
     "metadata": {
      "needs_background": "light"
     },
     "output_type": "display_data"
    }
   ],
   "source": [
    "percent_scholarship_show.plot(kind = 'bar', alpha = 0.5, color = 'red', label = 'show')\n",
    "percent_scholarship_noshow.plot(kind = 'bar', alpha = 0.9, color = 'lightblue', label = 'no show')\n",
    "plt.title('Scholarship')\n",
    "plt.xlabel('Scholarship')\n",
    "plt.ylabel('Percentages')\n",
    "plt.legend();"
   ]
  },
  {
   "cell_type": "markdown",
   "metadata": {},
   "source": [
    "> Patients who has scholarship tend to miss thier appointment more than the patients who do not have scholarship."
   ]
  },
  {
   "cell_type": "markdown",
   "metadata": {},
   "source": [
    "### 4. Relationship on Sms Received with No-show"
   ]
  },
  {
   "cell_type": "code",
   "execution_count": 56,
   "metadata": {},
   "outputs": [
    {
     "name": "stdout",
     "output_type": "stream",
     "text": [
      "percent_smsreceived_noshow: \n",
      "0    16.697984\n",
      "1    27.574545\n",
      "Name: sms_received, dtype: float64\n",
      "\n",
      "percent_smsreceived_show: \n",
      "0    83.302016\n",
      "1    72.425455\n",
      "Name: sms_received, dtype: float64\n"
     ]
    }
   ],
   "source": [
    "percent_smsreceived_noshow = df.sms_received[noshow].value_counts() / df.sms_received.value_counts() *100\n",
    "percent_smsreceived_show = df.sms_received[show].value_counts() / df.sms_received.value_counts() *100\n",
    "print('percent_smsreceived_noshow: \\n{}\\n'.format(percent_smsreceived_noshow))\n",
    "print('percent_smsreceived_show: \\n{}'.format(percent_smsreceived_show))"
   ]
  },
  {
   "cell_type": "code",
   "execution_count": 36,
   "metadata": {},
   "outputs": [
    {
     "data": {
      "image/png": "[encoded data removed]",
      "text/plain": [
       "<Figure size 432x288 with 1 Axes>"
      ]
     },
     "metadata": {
      "needs_background": "light"
     },
     "output_type": "display_data"
    }
   ],
   "source": [
    "percent_smsreceived_show.plot(kind = 'bar', alpha = 0.5, color = 'red', label = 'show')\n",
    "percent_smsreceived_noshow.plot(kind = 'bar', alpha = 0.9, color = 'lightblue', label = 'no show')\n",
    "plt.title('Sms Received')\n",
    "plt.xlabel('Sms Received')\n",
    "plt.ylabel('Percentages')\n",
    "plt.legend();"
   ]
  },
  {
   "cell_type": "markdown",
   "metadata": {},
   "source": [
    "> It is surprisingly that received sms group is more significant  no-show on thier appointment than the other group."
   ]
  },
  {
   "cell_type": "markdown",
   "metadata": {},
   "source": [
    "### 5. Relationship on Day of week with No-show"
   ]
  },
  {
   "cell_type": "code",
   "execution_count": 37,
   "metadata": {},
   "outputs": [],
   "source": [
    "percent_day_noshow = df.day_of_week[noshow].value_counts() / df.day_of_week.value_counts() *100\n",
    "percent_day_show = df.day_of_week[show].value_counts() / df.day_of_week.value_counts() *100"
   ]
  },
  {
   "cell_type": "code",
   "execution_count": 38,
   "metadata": {},
   "outputs": [],
   "source": [
    "# Ordered the day of week\n",
    "percent_day_noshow = percent_day_noshow[['Monday', 'Tuesday', 'Wednesday', 'Thursday', 'Friday', 'Saturday']]\n",
    "percent_day_show = percent_day_show[['Monday', 'Tuesday', 'Wednesday', 'Thursday', 'Friday', 'Saturday']]"
   ]
  },
  {
   "cell_type": "code",
   "execution_count": 50,
   "metadata": {},
   "outputs": [
    {
     "name": "stdout",
     "output_type": "stream",
     "text": [
      "percent_day_of_week_noshow: \n",
      "Monday       20.644565\n",
      "Tuesday      20.087370\n",
      "Wednesday    19.686074\n",
      "Thursday     19.349414\n",
      "Friday       21.226142\n",
      "Saturday     23.076923\n",
      "Name: day_of_week, dtype: float64\n",
      "\n",
      "percent_day_of_week_show: \n",
      "Monday       79.355435\n",
      "Tuesday      79.912630\n",
      "Wednesday    80.313926\n",
      "Thursday     80.650586\n",
      "Friday       78.773858\n",
      "Saturday     76.923077\n",
      "Name: day_of_week, dtype: float64\n"
     ]
    }
   ],
   "source": [
    "print('percent_day_of_week_noshow: \\n{}\\n'.format(percent_day_noshow))\n",
    "print('percent_day_of_week_show: \\n{}'.format(percent_day_show))"
   ]
  },
  {
   "cell_type": "code",
   "execution_count": 58,
   "metadata": {},
   "outputs": [
    {
     "data": {
      "image/png": "[encoded data removed]",
      "text/plain": [
       "<Figure size 432x288 with 1 Axes>"
      ]
     },
     "metadata": {
      "needs_background": "light"
     },
     "output_type": "display_data"
    }
   ],
   "source": [
    "percent_day_noshow.plot(kind = 'barh',alpha = 1, color = 'lightblue')\n",
    "plt.title('Day of week distribution of no show')\n",
    "plt.xlabel('Percentages')\n",
    "plt.ylabel('Day of week');"
   ]
  },
  {
   "cell_type": "code",
   "execution_count": 41,
   "metadata": {},
   "outputs": [],
   "source": [
    "# Before we concluded that Saturday is the day patients will not show on appointment the most, lest's check the number of appointments in each day\n",
    "count_day_of_week = df.day_of_week.value_counts()"
   ]
  },
  {
   "cell_type": "code",
   "execution_count": 42,
   "metadata": {},
   "outputs": [
    {
     "data": {
      "image/png": "[encoded data removed]",
      "text/plain": [
       "<Figure size 432x288 with 1 Axes>"
      ]
     },
     "metadata": {},
     "output_type": "display_data"
    }
   ],
   "source": [
    "# Make a pie chart\n",
    "count_day_of_week.plot(kind=\"pie\", autopct='%1.2f%%', radius = 1.5)\n",
    "plt.title(\"Day of week\", pad=40)\n",
    "plt.ylabel(\"\");"
   ]
  },
  {
   "cell_type": "markdown",
   "metadata": {},
   "source": [
    "> It could be seen that there is only 0.04% appointments on Saturday so it should not be included in this summary.\n",
    "From the day of week distribution graph, People who have appiontment on Friday tends to no show up than the other days. However, it seems not significant enough to considered as important factor. "
   ]
  },
  {
   "cell_type": "markdown",
   "metadata": {},
   "source": [
    "### 6. Relationship on Waiting time with No-show"
   ]
  },
  {
   "cell_type": "code",
   "execution_count": 43,
   "metadata": {},
   "outputs": [],
   "source": [
    "percent_waiting_noshow = df.waiting_period[noshow].value_counts() / df.waiting_period.value_counts() *100\n",
    "percent_waiting_show = df.waiting_period[show].value_counts() / df.waiting_period.value_counts() *100"
   ]
  },
  {
   "cell_type": "code",
   "execution_count": 44,
   "metadata": {},
   "outputs": [],
   "source": [
    "# Ordered the waiting time\n",
    "percent_waiting_noshow = percent_waiting_noshow[['1 month', '2 months', '3 months', '4 months', '5 months', 'more than 5 months']]\n",
    "percent_waiting_show = percent_waiting_show[['1 month', '2 months', '3 months', '4 months', '5 months', 'more than 5 months']]"
   ]
  },
  {
   "cell_type": "code",
   "execution_count": 59,
   "metadata": {},
   "outputs": [
    {
     "name": "stdout",
     "output_type": "stream",
     "text": [
      "percent_waiting_period_noshow: \n",
      "1 month               18.862027\n",
      "2 months              34.154292\n",
      "3 months              28.753994\n",
      "4 months              20.454545\n",
      "5 months              37.931034\n",
      "more than 5 months    32.142857\n",
      "Name: waiting_period, dtype: float64\n",
      "\n",
      "percent_waiting_period_show: \n",
      "1 month               81.137973\n",
      "2 months              65.845708\n",
      "3 months              71.246006\n",
      "4 months              79.545455\n",
      "5 months              62.068966\n",
      "more than 5 months    67.857143\n",
      "Name: waiting_period, dtype: float64\n"
     ]
    }
   ],
   "source": [
    "print('percent_waiting_period_noshow: \\n{}\\n'.format(percent_waiting_noshow))\n",
    "print('percent_waiting_period_show: \\n{}'.format(percent_waiting_show))"
   ]
  },
  {
   "cell_type": "code",
   "execution_count": 60,
   "metadata": {},
   "outputs": [
    {
     "data": {
      "image/png": "[encoded data removed]",
      "text/plain": [
       "<Figure size 432x288 with 1 Axes>"
      ]
     },
     "metadata": {
      "needs_background": "light"
     },
     "output_type": "display_data"
    }
   ],
   "source": [
    "percent_waiting_show.plot(kind = 'barh', alpha = 0.5, color = 'red', label = 'show')\n",
    "percent_waiting_noshow.plot(kind = 'barh', alpha = 0.9, color = 'lightblue', label = 'no show')\n",
    "plt.title('Waiting periods')\n",
    "plt.xlabel('Percentages')\n",
    "plt.ylabel('Month')\n",
    "plt.legend();"
   ]
  },
  {
   "cell_type": "code",
   "execution_count": 47,
   "metadata": {},
   "outputs": [
    {
     "data": {
      "text/plain": [
       "1 month               100143\n",
       "2 months                8283\n",
       "3 months                1878\n",
       "4 months                 132\n",
       "more than 5 months        56\n",
       "5 months                  29\n",
       "Name: waiting_period, dtype: int64"
      ]
     },
     "execution_count": 47,
     "metadata": {},
     "output_type": "execute_result"
    }
   ],
   "source": [
    "# Before we concluded that 5 months is the time period patients will not show on appointment the most, lest's check the number of appointments in each group.\n",
    "df.waiting_period.value_counts()"
   ]
  },
  {
   "cell_type": "markdown",
   "metadata": {},
   "source": [
    "> Similar to the day of week, the number of waiting 5 months is very small. Thus, the waiting time that make people more missing appointment is 2 months."
   ]
  },
  {
   "cell_type": "markdown",
   "metadata": {},
   "source": [
    "### 7. Relationship on Underlying Diseases with No-show"
   ]
  },
  {
   "cell_type": "code",
   "execution_count": 61,
   "metadata": {},
   "outputs": [
    {
     "name": "stdout",
     "output_type": "stream",
     "text": [
      "percent_underlying_dz_noshow: \n",
      "No     20.92473\n",
      "Yes    17.84930\n",
      "Name: underlying_dz, dtype: float64\n",
      "\n",
      "percent_underlying_dz_show: \n",
      "No     79.07527\n",
      "Yes    82.15070\n",
      "Name: underlying_dz, dtype: float64\n"
     ]
    }
   ],
   "source": [
    "percent_underlying_dz_noshow = df.underlying_dz[noshow].value_counts() / df.underlying_dz.value_counts() *100\n",
    "percent_underlying_dz_show = df.underlying_dz[show].value_counts() / df.underlying_dz.value_counts() *100\n",
    "print('percent_underlying_dz_noshow: \\n{}\\n'.format(percent_underlying_dz_noshow))\n",
    "print('percent_underlying_dz_show: \\n{}'.format(percent_underlying_dz_show))"
   ]
  },
  {
   "cell_type": "code",
   "execution_count": 62,
   "metadata": {},
   "outputs": [
    {
     "data": {
      "image/png": "[encoded data removed]",
      "text/plain": [
       "<Figure size 432x288 with 1 Axes>"
      ]
     },
     "metadata": {
      "needs_background": "light"
     },
     "output_type": "display_data"
    }
   ],
   "source": [
    "percent_underlying_dz_show.plot(kind = 'bar', alpha = 0.5, color = 'red', label = 'show')\n",
    "percent_underlying_dz_noshow.plot(kind = 'bar', alpha = 0.9, color = 'lightblue', label = 'no show')\n",
    "plt.title('Underlying diseases')\n",
    "plt.xlabel('Underlying diseases')\n",
    "plt.ylabel('Percentages')\n",
    "plt.legend();"
   ]
  },
  {
   "cell_type": "markdown",
   "metadata": {},
   "source": [
    "> The patients who have underlying diseases are less show-up for thier appointments."
   ]
  },
  {
   "cell_type": "markdown",
   "metadata": {},
   "source": [
    "<a id='conclusions'></a>\n",
    "## Conclusions\n"
   ]
  },
  {
   "cell_type": "markdown",
   "metadata": {},
   "source": [
    "Results: Our data suggest that\n",
    "1. There is no big difference between the gender of patients who show up and the patients who did not show up for the appointment.\n",
    "2. Comparing to other age group classification, age 16-30 is more likely to be absence on thier appointments. The second and the third are under 15, and 31-45 respectively. So it may say that the youngers seems to no-show on appointment more than the elderly.\n",
    "3. The patients who are in scholarship program tend to not show up on thier appointment.\n",
    "4. SMS reminders do not help patients more likely to show up on thier appointment.\n",
    "5. There is no significant value to conclude that the day of week affect the patients absence.\n",
    "6. There are big different in the value count of waiting periods. It is hardly to compare them dur to the size may affect the result. However, waiting 2 months is likely to make the patients do not show up on appointment date.\n",
    "7. Patients who have a underlying disease are about 3% less likely to miss thier appointments than the patients who do not have a underlying disease."
   ]
  },
  {
   "cell_type": "markdown",
   "metadata": {},
   "source": [
    "Limitations: There are a couple of limitations with our data:\n",
    "1. The details of informations are not provided. For example, the time of appointment date which may affect the patients show up. Or what a present illness that patients need to consult a doctor. For example, the patient may have a fever. The symptom may get better before the schedule date so a patient turn out to no-show on appointment.\n",
    "2. Most of our value are categorical so it cannot show the strong correlation between factors."
   ]
  }
 ],
 "metadata": {
  "kernelspec": {
   "display_name": "Python 3",
   "language": "python",
   "name": "python3"
  },
  "language_info": {
   "codemirror_mode": {
    "name": "ipython",
    "version": 3
   },
   "file_extension": ".py",
   "mimetype": "text/x-python",
   "name": "python",
   "nbconvert_exporter": "python",
   "pygments_lexer": "ipython3",
   "version": "3.7.1"
  }
 },
 "nbformat": 4,
 "nbformat_minor": 2
}
